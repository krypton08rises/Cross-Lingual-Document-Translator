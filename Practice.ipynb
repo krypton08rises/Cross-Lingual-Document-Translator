{
 "cells": [
  {
   "cell_type": "code",
   "execution_count": 20,
   "metadata": {},
   "outputs": [
    {
     "name": "stdout",
     "output_type": "stream",
     "text": [
      "dog bit green\n"
     ]
    }
   ],
   "source": [
    "h = [\"kutta bhauka lal\",\"kutta kaata hara\",\"bhalu kaata lal\"]\n",
    "e = [\"dog barked red\",\"dog bit green\",\"bear bit red\"]"
   ]
  },
  {
   "cell_type": "code",
   "execution_count": 24,
   "metadata": {},
   "outputs": [
    {
     "name": "stdout",
     "output_type": "stream",
     "text": [
      "['green', 'bear', 'dog', 'barked', 'red', 'bit']\n"
     ]
    }
   ],
   "source": [
    "l = h[0].split()\n",
    "l.extend(h[1].split())\n",
    "l.extend(h[2].split())\n",
    "hv = list(set(l))\n",
    "l = e[0].split()\n",
    "l.extend(e[1].split())\n",
    "l.extend(e[2].split())\n",
    "ev = list(set(l))"
   ]
  },
  {
   "cell_type": "code",
   "execution_count": 42,
   "metadata": {},
   "outputs": [],
   "source": [
    "def initialize_prob():\n",
    "    p = {}\n",
    "    k = []\n",
    "    for i in ev:\n",
    "        for j in hv:\n",
    "            k = k + [i + \"|\" + j]\n",
    "    print(k)\n",
    "    for i in range(len(k)):\n",
    "        p[k[i]] = 1/(len(ev))\n",
    "###print(k[i] + \":\" + str(p[k[i]]))"
   ]
  },
  {
   "cell_type": "code",
   "execution_count": 48,
   "metadata": {},
   "outputs": [
    {
     "name": "stdout",
     "output_type": "stream",
     "text": [
      "kutta\n",
      "bhauka\n",
      "lal\n",
      "kutta\n",
      "kaata\n",
      "hara\n",
      "bhalu\n",
      "kaata\n",
      "lal\n"
     ]
    }
   ],
   "source": [
    "c = {}\n",
    "for i in range(len(h)):\n",
    "    l = h[i].split()\n",
    "    for word in l: \n",
    "        "
   ]
  },
  {
   "cell_type": "code",
   "execution_count": null,
   "metadata": {},
   "outputs": [],
   "source": []
  }
 ],
 "metadata": {
  "kernelspec": {
   "display_name": "Python 3",
   "language": "python",
   "name": "python3"
  },
  "language_info": {
   "codemirror_mode": {
    "name": "ipython",
    "version": 3
   },
   "file_extension": ".py",
   "mimetype": "text/x-python",
   "name": "python",
   "nbconvert_exporter": "python",
   "pygments_lexer": "ipython3",
   "version": "3.7.4"
  }
 },
 "nbformat": 4,
 "nbformat_minor": 2
}
