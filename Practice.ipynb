{
 "cells": [
  {
   "cell_type": "code",
   "execution_count": 55,
   "metadata": {},
   "outputs": [],
   "source": [
    "h = [\"kutta bhauka lal\",\"kutta kaata hara\",\"bhalu kaata lal\"]\n",
    "e = [\"dog barked red\",\"dog bit green\",\"bear bit red\"]"
   ]
  },
  {
   "cell_type": "code",
   "execution_count": 56,
   "metadata": {},
   "outputs": [],
   "source": [
    "l = h[0].split()\n",
    "l.extend(h[1].split())\n",
    "l.extend(h[2].split())\n",
    "hv = list(set(l))\n",
    "l = e[0].split()\n",
    "l.extend(e[1].split())\n",
    "l.extend(e[2].split())\n",
    "ev = list(set(l))"
   ]
  },
  {
   "cell_type": "code",
   "execution_count": 57,
   "metadata": {},
   "outputs": [],
   "source": [
    "def initialize_prob():\n",
    "    p = {}\n",
    "    k = []\n",
    "    for i in ev:\n",
    "        for j in hv:\n",
    "            k = k + [i + \"|\" + j]\n",
    "    print(k)\n",
    "    for i in range(len(k)):\n",
    "        p[k[i]] = 1/(len(ev))\n",
    "###print(k[i] + \":\" + str(p[k[i]]))"
   ]
  },
  {
   "cell_type": "code",
   "execution_count": 58,
   "metadata": {},
   "outputs": [
    {
     "name": "stdout",
     "output_type": "stream",
     "text": [
      "['green|lal', 'green|bhalu', 'green|kaata', 'green|bhauka', 'green|hara', 'green|kutta', 'bear|lal', 'bear|bhalu', 'bear|kaata', 'bear|bhauka', 'bear|hara', 'bear|kutta', 'dog|lal', 'dog|bhalu', 'dog|kaata', 'dog|bhauka', 'dog|hara', 'dog|kutta', 'barked|lal', 'barked|bhalu', 'barked|kaata', 'barked|bhauka', 'barked|hara', 'barked|kutta', 'red|lal', 'red|bhalu', 'red|kaata', 'red|bhauka', 'red|hara', 'red|kutta', 'bit|lal', 'bit|bhalu', 'bit|kaata', 'bit|bhauka', 'bit|hara', 'bit|kutta']\n"
     ]
    }
   ],
   "source": [
    "initialize_prob()"
   ]
  },
  {
   "cell_type": "code",
   "execution_count": 82,
   "metadata": {},
   "outputs": [],
   "source": [
    "def prob_of_alignments():\n",
    "    k = []\n",
    "    for i in range(len(h)):\n",
    "        hl = h[i].split()\n",
    "        el = e[i].split()\n",
    "        for j in range(len(el)):\n",
    "            for i in range(len(hl)):\n",
    "                k = k + [el[j] + \"|\" + hl[i]]\n",
    "    print(k)\n",
    "    return k"
   ]
  },
  {
   "cell_type": "code",
   "execution_count": 83,
   "metadata": {
    "scrolled": true
   },
   "outputs": [
    {
     "name": "stdout",
     "output_type": "stream",
     "text": [
      "['dog|kutta', 'dog|bhauka', 'dog|lal', 'barked|kutta', 'barked|bhauka', 'barked|lal', 'red|kutta', 'red|bhauka', 'red|lal', 'dog|kutta', 'dog|kaata', 'dog|hara', 'bit|kutta', 'bit|kaata', 'bit|hara', 'green|kutta', 'green|kaata', 'green|hara', 'bear|bhalu', 'bear|kaata', 'bear|lal', 'bit|bhalu', 'bit|kaata', 'bit|lal', 'red|bhalu', 'red|kaata', 'red|lal']\n"
     ]
    }
   ],
   "source": [
    "prob_of_alignments()"
   ]
  },
  {
   "cell_type": "code",
   "execution_count": null,
   "metadata": {},
   "outputs": [],
   "source": []
  }
 ],
 "metadata": {
  "kernelspec": {
   "display_name": "Python 3",
   "language": "python",
   "name": "python3"
  },
  "language_info": {
   "codemirror_mode": {
    "name": "ipython",
    "version": 3
   },
   "file_extension": ".py",
   "mimetype": "text/x-python",
   "name": "python",
   "nbconvert_exporter": "python",
   "pygments_lexer": "ipython3",
   "version": "3.7.4"
  }
 },
 "nbformat": 4,
 "nbformat_minor": 2
}
