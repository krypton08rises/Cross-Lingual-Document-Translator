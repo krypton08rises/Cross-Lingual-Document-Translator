{
 "cells": [
  {
   "cell_type": "code",
   "execution_count": 11,
   "metadata": {},
   "outputs": [
    {
     "name": "stdout",
     "output_type": "stream",
     "text": [
      "done\n"
     ]
    }
   ],
   "source": [
    "inpfile=open('English.txt','r',encoding=\"utf8\")\n",
    "inpfile1=open('Dutch.txt','r',encoding=\"utf8\")\n",
    "l=inpfile.readlines()\n",
    "l1=inpfile1.readlines()\n",
    "\n",
    "inpfile.close()\n",
    "inpfile1.close()\n",
    "print(\"done\")"
   ]
  },
  {
   "cell_type": "code",
   "execution_count": 12,
   "metadata": {},
   "outputs": [
    {
     "ename": "SyntaxError",
     "evalue": "invalid syntax (<ipython-input-12-8c1675dbdeca>, line 6)",
     "output_type": "error",
     "traceback": [
      "\u001b[1;36m  File \u001b[1;32m\"<ipython-input-12-8c1675dbdeca>\"\u001b[1;36m, line \u001b[1;32m6\u001b[0m\n\u001b[1;33m    while(!inpfile):\u001b[0m\n\u001b[1;37m          ^\u001b[0m\n\u001b[1;31mSyntaxError\u001b[0m\u001b[1;31m:\u001b[0m invalid syntax\n"
     ]
    }
   ],
   "source": [
    "inpfile=open('English2.txt','r',encoding=\"utf8\")\n",
    "inpfile1=open('Dutch2.txt','r',encoding=\"utf8\")\n",
    "l=inpfile.readlines()\n",
    "l1=inpfile1.readlines()\n",
    "\n",
    "for i in range(len(l)):\n",
    "    words=l[i].split()\n",
    "    for word in words:\n",
    "        word.rstrip(\"\")\n",
    "    \n",
    "    \n",
    "    \n",
    "\n",
    "inpfile.close()\n",
    "inpfile1.close()"
   ]
  },
  {
   "cell_type": "code",
   "execution_count": null,
   "metadata": {},
   "outputs": [],
   "source": []
  }
 ],
 "metadata": {
  "kernelspec": {
   "display_name": "Python 3",
   "language": "python",
   "name": "python3"
  },
  "language_info": {
   "codemirror_mode": {
    "name": "ipython",
    "version": 3
   },
   "file_extension": ".py",
   "mimetype": "text/x-python",
   "name": "python",
   "nbconvert_exporter": "python",
   "pygments_lexer": "ipython3",
   "version": "3.6.5"
  }
 },
 "nbformat": 4,
 "nbformat_minor": 2
}
