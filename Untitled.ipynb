{
 "cells": [
  {
   "cell_type": "code",
   "execution_count": 1,
   "metadata": {},
   "outputs": [],
   "source": [
    "import numpy as np"
   ]
  },
  {
   "cell_type": "code",
   "execution_count": 12,
   "metadata": {},
   "outputs": [
    {
     "name": "stdout",
     "output_type": "stream",
     "text": [
      "Thank you, Mr Poettering.\n",
      "\n",
      "We shall now hear Mr Wurtz speaking against this request.\n",
      "\n",
      "Hartelijk dank, mijnheer Poettering.\n",
      "\n",
      "We geven nu de heer Wurtz de gelegenheid om zich tegen dit verzoek uit te spreken.\n",
      "\n",
      "done\n"
     ]
    }
   ],
   "source": [
    "inpfile=open('Eng106.txt','r',encoding=\"utf8\")\n",
    "inpfile1=open('Dutch106.txt','r',encoding=\"utf8\")\n",
    "l=inpfile.readlines()\n",
    "l1=inpfile1.readlines()\n",
    "print(l[96])\n",
    "print(l[97])\n",
    "print(l1[96])\n",
    "print(l1[97])\n",
    "inpfile.close()\n",
    "inpfile1.close()\n",
    "print(\"done\")"
   ]
  },
  {
   "cell_type": "code",
   "execution_count": null,
   "metadata": {},
   "outputs": [],
   "source": []
  },
  {
   "cell_type": "code",
   "execution_count": null,
   "metadata": {},
   "outputs": [],
   "source": []
  }
 ],
 "metadata": {
  "kernelspec": {
   "display_name": "Python 3",
   "language": "python",
   "name": "python3"
  },
  "language_info": {
   "codemirror_mode": {
    "name": "ipython",
    "version": 3
   },
   "file_extension": ".py",
   "mimetype": "text/x-python",
   "name": "python",
   "nbconvert_exporter": "python",
   "pygments_lexer": "ipython3",
   "version": "3.7.4"
  }
 },
 "nbformat": 4,
 "nbformat_minor": 2
}
