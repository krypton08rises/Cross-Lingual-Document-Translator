{
 "cells": [
  {
   "cell_type": "code",
   "execution_count": 1,
   "metadata": {},
   "outputs": [],
   "source": [
    "import numpy as np\n",
    "import pandas as pd\n",
    "import matplotlib.pyplot as plt\n",
    "import seaborn as sns"
   ]
  },
  {
   "cell_type": "code",
   "execution_count": 49,
   "metadata": {},
   "outputs": [],
   "source": [
    "import time"
   ]
  },
  {
   "cell_type": "code",
   "execution_count": 2,
   "metadata": {},
   "outputs": [],
   "source": [
    "ENG_FILE_SRC = \"/media/ieshaan/Windows/Users/IESHAAN .LAPTOP-U40CT3MF/Downloads/Dataset-20191031T070748Z-001/Dataset/English.txt\"\n",
    "DUTCH_FILE_SRC = \"/media/ieshaan/Windows/Users/IESHAAN .LAPTOP-U40CT3MF/Downloads/Dataset-20191031T070748Z-001/Dataset/Dutch.txt\""
   ]
  },
  {
   "cell_type": "code",
   "execution_count": 3,
   "metadata": {},
   "outputs": [],
   "source": [
    "# Test Files\n",
    "\n",
    "ENG_TEST_FILE = 'eng.txt'\n",
    "DUTCH_TEST_FILE = 'dutch.txt'"
   ]
  },
  {
   "cell_type": "code",
   "execution_count": 57,
   "metadata": {},
   "outputs": [],
   "source": [
    "PROB_FILE = 'condProb.txt'\n",
    "COUNT_FILE = 'count.txt'"
   ]
  },
  {
   "cell_type": "code",
   "execution_count": 5,
   "metadata": {},
   "outputs": [],
   "source": [
    "e_file = open(ENG_TEST_FILE,'r',encoding = 'utf-8')\n",
    "d_file = open(DUTCH_TEST_FILE,'r',encoding = 'utf-8')"
   ]
  },
  {
   "cell_type": "code",
   "execution_count": 6,
   "metadata": {},
   "outputs": [],
   "source": [
    "dutch = d_file.readlines()\n",
    "eng = e_file.readlines()"
   ]
  },
  {
   "cell_type": "code",
   "execution_count": 56,
   "metadata": {},
   "outputs": [],
   "source": [
    "total_no_of_sentences = len(dutch)"
   ]
  },
  {
   "cell_type": "code",
   "execution_count": 8,
   "metadata": {},
   "outputs": [],
   "source": [
    "def remove_punc(l):\n",
    "    for i in range(len(l)):\n",
    "        l[i] = remove_stuff(l[i])\n",
    "        l[i] = l[i][:-1]\n",
    "    return l"
   ]
  },
  {
   "cell_type": "code",
   "execution_count": 9,
   "metadata": {},
   "outputs": [],
   "source": [
    "def remove_stuff(l):\n",
    "    a = [ '.' , '\\\\' , '/' , ',' , ';' , '(' , ')' , '\"', \"\\'\",'1','2','3','4','5','6','7','8','9','0','?']\n",
    "    for i in a:\n",
    "        l = l.replace(i, \"\")\n",
    "    return l"
   ]
  },
  {
   "cell_type": "code",
   "execution_count": 10,
   "metadata": {},
   "outputs": [],
   "source": [
    "dutch2 = remove_punc(dutch)\n",
    "eng2 = remove_punc(eng)"
   ]
  },
  {
   "cell_type": "code",
   "execution_count": 11,
   "metadata": {},
   "outputs": [],
   "source": [
    "from collections import defaultdict"
   ]
  },
  {
   "cell_type": "code",
   "execution_count": 12,
   "metadata": {},
   "outputs": [],
   "source": [
    "dutch_line_no = defaultdict(set)\n",
    "eng_line_no = defaultdict(set)"
   ]
  },
  {
   "cell_type": "code",
   "execution_count": 13,
   "metadata": {},
   "outputs": [],
   "source": [
    "def assign_line_no(doc,dict_lo):\n",
    "    for i in range(len(doc)):\n",
    "        t = doc[i].split()\n",
    "        for m in t:\n",
    "            dict_lo[m].add(i)\n",
    "    return dict_lo"
   ]
  },
  {
   "cell_type": "code",
   "execution_count": 14,
   "metadata": {},
   "outputs": [],
   "source": [
    "dutch_line_no = assign_line_no(dutch2, dutch_line_no)\n",
    "eng_line_no = assign_line_no(eng2, eng_line_no)"
   ]
  },
  {
   "cell_type": "code",
   "execution_count": 15,
   "metadata": {},
   "outputs": [],
   "source": [
    "no_of_lines_eng = len(eng_line_no)\n",
    "no_of_lines_dutch = len(dutch_line_no)"
   ]
  },
  {
   "cell_type": "code",
   "execution_count": 58,
   "metadata": {},
   "outputs": [],
   "source": [
    "def initialize(foreign_no_of_words,foreign_l,english_l):\n",
    "    probabilities = {} # Initializing proablities\n",
    "    #count = {} # Count\n",
    "    counter = 1\n",
    "    for i in english_l.keys():\n",
    "        for j in foreign_l.keys():\n",
    "            s = i+\"_\"+j\n",
    "            probabilities[s] = 1/foreign_no_of_words\n",
    "            #count[s] = 0\n",
    "        \n",
    "        write_to_file(probabilities,i,counter,PROB_FILE)\n",
    "        #write_to_file(count,i,counter,COUNT_FILE)\n",
    "        counter +=1\n",
    "        probabilities ={}\n",
    "        \n",
    "    return True\n",
    "    "
   ]
  },
  {
   "cell_type": "code",
   "execution_count": 59,
   "metadata": {},
   "outputs": [],
   "source": [
    "def write_to_file(probabilities,english_word,counter,file_name):\n",
    "    file = open(file_name,'a')\n",
    "    file.write(str(counter)+' '+english_word+'\\n')\n",
    "    print(counter)\n",
    "    for k,v in probabilities.items():\n",
    "        file.write('{0} {1}\\n'.format(k,v))\n",
    "    file.close()\n",
    "        "
   ]
  },
  {
   "cell_type": "code",
   "execution_count": 51,
   "metadata": {},
   "outputs": [],
   "source": [
    "t = time.process_time()\n",
    "#prob = initialize(no_of_lines_dutch,dutch_line_no,eng_line_no)\n",
    "elapsed_time = time.process_time() - t\n",
    "#print(elapsed_time)"
   ]
  },
  {
   "cell_type": "code",
   "execution_count": 60,
   "metadata": {},
   "outputs": [],
   "source": [
    "def finding_probabilities(dutch_sentences, eng_sentences,no_of_sentences):\n",
    "    \n",
    "    for i in range(no_of_sentences):\n",
    "        \n",
    "        du = dutch_sentences[i]\n",
    "        en = eng_sentences[i]\n",
    "        \n",
    "        du_words = du.split()\n",
    "        en_words = en.split()\n",
    "        \n",
    "        for j in en_words:\n",
    "            \n",
    "        \n",
    "        \n",
    "        \n",
    "        \n",
    "        \n",
    "    "
   ]
  },
  {
   "cell_type": "code",
   "execution_count": 55,
   "metadata": {},
   "outputs": [],
   "source": [
    "#finding_probabilties(dutch,eng,total_no_of_sentences)"
   ]
  },
  {
   "cell_type": "code",
   "execution_count": null,
   "metadata": {},
   "outputs": [],
   "source": [
    "def running_function(foreign_l, english_l, dutch_sentences, eng_sentences, no_of_sentences,no_of_iterations = 100):\n",
    "    \n",
    "    count = {}\n",
    "    counter = 1\n",
    "    for i in english_l.keys():\n",
    "        for j in foreign_l.keys():\n",
    "            s = i+\"_\"+j\n",
    "            count[s] = 0\n",
    "            \n",
    "        write_to_file(count,i,counter,COUNT_FILE)\n",
    "        counter += 1\n",
    "        \n",
    "    total = {}\n",
    "    \n",
    "    for k in foreign_l.keys():\n",
    "        total[k] = 0\n",
    "        \n",
    "    finding_probabilities(dutch_sentences,eng_sentences,no_of_sentences)\n",
    "    \n",
    "    \n",
    "        \n",
    "    \n",
    "    "
   ]
  }
 ],
 "metadata": {
  "kernelspec": {
   "display_name": "Python 3",
   "language": "python",
   "name": "python3"
  },
  "language_info": {
   "codemirror_mode": {
    "name": "ipython",
    "version": 3
   },
   "file_extension": ".py",
   "mimetype": "text/x-python",
   "name": "python",
   "nbconvert_exporter": "python",
   "pygments_lexer": "ipython3",
   "version": "3.7.4"
  }
 },
 "nbformat": 4,
 "nbformat_minor": 2
}
